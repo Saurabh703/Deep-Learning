{
  "cells": [
    {
      "cell_type": "markdown",
      "metadata": {
        "id": "view-in-github",
        "colab_type": "text"
      },
      "source": [
        "<a href=\"https://colab.research.google.com/github/Saurabh703/Deep-Learning/blob/main/Hyperparameter.ipynb\" target=\"_parent\"><img src=\"https://colab.research.google.com/assets/colab-badge.svg\" alt=\"Open In Colab\"/></a>"
      ]
    },
    {
      "cell_type": "code",
      "execution_count": null,
      "id": "d2d13f4d",
      "metadata": {
        "id": "d2d13f4d"
      },
      "outputs": [],
      "source": [
        "import numpy as np\n",
        "import matplotlib.pyplot as plt\n",
        "import pandas as pd"
      ]
    },
    {
      "cell_type": "code",
      "execution_count": null,
      "id": "9867b64f",
      "metadata": {
        "id": "9867b64f"
      },
      "outputs": [],
      "source": [
        "df = pd.read_csv('Churn_Modelling.csv')\n",
        "X = df.iloc[:, 3:13]\n",
        "y = df.iloc[:, 13]"
      ]
    },
    {
      "cell_type": "code",
      "execution_count": null,
      "id": "6032fe26",
      "metadata": {
        "id": "6032fe26"
      },
      "outputs": [],
      "source": [
        "geography = pd.get_dummies(X[\"Geography\"],drop_first=True)\n",
        "gender = pd.get_dummies(X['Gender'], drop_first=True)"
      ]
    },
    {
      "cell_type": "code",
      "execution_count": null,
      "id": "987eaa25",
      "metadata": {
        "id": "987eaa25"
      },
      "outputs": [],
      "source": [
        "X = pd.concat([X, geography, gender], axis = 1)"
      ]
    },
    {
      "cell_type": "code",
      "execution_count": null,
      "id": "33425aa8",
      "metadata": {
        "id": "33425aa8"
      },
      "outputs": [],
      "source": [
        "X = X.drop(['Geography','Gender'], axis = 1)"
      ]
    },
    {
      "cell_type": "code",
      "execution_count": null,
      "id": "00196e90",
      "metadata": {
        "id": "00196e90"
      },
      "outputs": [],
      "source": [
        "from sklearn.model_selection import train_test_split\n",
        "X_train, X_test, y_train, y_test = train_test_split(X, y, test_size = 0.2, random_state = 0)"
      ]
    },
    {
      "cell_type": "code",
      "execution_count": null,
      "id": "8defadbf",
      "metadata": {
        "id": "8defadbf"
      },
      "outputs": [],
      "source": [
        "from sklearn.preprocessing import StandardScaler\n",
        "sc = StandardScaler()\n",
        "X_train = sc.fit_transform(X_train)\n",
        "X_test = sc.transform(X_test)"
      ]
    },
    {
      "cell_type": "code",
      "execution_count": null,
      "id": "2e208f4c",
      "metadata": {
        "id": "2e208f4c"
      },
      "outputs": [],
      "source": [
        "from keras.wrappers.scikit_learn import KerasClassifier\n",
        "from sklearn.model_selection import GridSearchCV"
      ]
    },
    {
      "cell_type": "code",
      "execution_count": null,
      "id": "a462b12f",
      "metadata": {
        "id": "a462b12f"
      },
      "outputs": [],
      "source": [
        "from keras.models import Sequential\n",
        "from keras.layers import Dense, Activation, Embedding, Flatten, LeakyReLU, BatchNormalization, Dropout\n",
        "from keras.activations import relu, sigmoid"
      ]
    },
    {
      "cell_type": "code",
      "execution_count": null,
      "id": "58064fbe",
      "metadata": {
        "id": "58064fbe"
      },
      "outputs": [],
      "source": [
        "def create_model(layers, activation):\n",
        "    model = Sequential()\n",
        "    for i, nodes in enumerate(layers):\n",
        "        if i == 0:\n",
        "            model.add(Dense(nodes, input_dim = X_train.shape[1]))\n",
        "            model.add(Activation(activation))\n",
        "            model.add(Dropout(0.3))\n",
        "        else:\n",
        "            model.add(Dense(nodes))\n",
        "            model.add(Activation(activation))\n",
        "            model.add(Dropout(0.3))\n",
        "            \n",
        "    model.add(Dense(units = 1, kernel_initializer = 'glorot_uniform', activation = 'sigmoid'))\n",
        "    \n",
        "    model.compile(optimizer = 'adam', loss = 'binary_crossentropy', metrics = ['accuracy'])\n",
        "    return model"
      ]
    },
    {
      "cell_type": "code",
      "execution_count": null,
      "id": "a6d85f07",
      "metadata": {
        "id": "a6d85f07",
        "outputId": "cbb40175-7227-411c-a7b5-9147a9c899ad"
      },
      "outputs": [
        {
          "name": "stderr",
          "output_type": "stream",
          "text": [
            "<ipython-input-29-b6cf6ff5109e>:1: DeprecationWarning: KerasClassifier is deprecated, use Sci-Keras (https://github.com/adriangb/scikeras) instead. See https://www.adriangb.com/scikeras/stable/migration.html for help migrating.\n",
            "  model = KerasClassifier(build_fn = create_model, verbose = 0)\n"
          ]
        }
      ],
      "source": [
        "model = KerasClassifier(build_fn = create_model, verbose = 0)"
      ]
    },
    {
      "cell_type": "code",
      "execution_count": null,
      "id": "f57c9f47",
      "metadata": {
        "id": "f57c9f47"
      },
      "outputs": [],
      "source": [
        "layers = [[20],[40,20],[45, 30, 15]]\n",
        "activations = ['sigmoid', 'relu']\n",
        "param_grid = dict(layers = layers, activation = activations, batch_size = [128, 256], epochs = [30])\n",
        "grid = GridSearchCV(estimator = model, param_grid = param_grid, cv = 5)"
      ]
    },
    {
      "cell_type": "code",
      "execution_count": null,
      "id": "527c5046",
      "metadata": {
        "id": "527c5046"
      },
      "outputs": [],
      "source": [
        "grid_result = grid.fit(X_train, y_train)"
      ]
    },
    {
      "cell_type": "code",
      "execution_count": null,
      "id": "c90153e5",
      "metadata": {
        "id": "c90153e5",
        "outputId": "68319604-020a-4357-e229-192b3917014a"
      },
      "outputs": [
        {
          "data": {
            "text/plain": [
              "[0.8554999947547912,\n",
              " {'activation': 'relu',\n",
              "  'batch_size': 128,\n",
              "  'epochs': 30,\n",
              "  'layers': [45, 30, 15]}]"
            ]
          },
          "execution_count": 33,
          "metadata": {},
          "output_type": "execute_result"
        }
      ],
      "source": [
        "[grid_result.best_score_, grid_result.best_params_]"
      ]
    },
    {
      "cell_type": "code",
      "execution_count": null,
      "id": "076590ee",
      "metadata": {
        "id": "076590ee",
        "outputId": "ca1cc825-30b3-40b2-bab3-622a46aae332"
      },
      "outputs": [
        {
          "name": "stdout",
          "output_type": "stream",
          "text": [
            "63/63 [==============================] - 0s 1ms/step\n"
          ]
        }
      ],
      "source": [
        "pred_y = grid.predict(X_test)\n",
        "y_pred = (pred_y > 0.5)"
      ]
    },
    {
      "cell_type": "code",
      "execution_count": null,
      "id": "754b3e08",
      "metadata": {
        "id": "754b3e08",
        "outputId": "d8d55c8a-386c-4006-dad6-43eacc3a1ff8"
      },
      "outputs": [
        {
          "data": {
            "text/plain": [
              "0.863"
            ]
          },
          "execution_count": 37,
          "metadata": {},
          "output_type": "execute_result"
        }
      ],
      "source": [
        "from sklearn.metrics import confusion_matrix, accuracy_score\n",
        "cm = confusion_matrix(y_pred, y_test)\n",
        "cm\n",
        "score = accuracy_score(y_pred, y_test)\n",
        "score"
      ]
    },
    {
      "cell_type": "code",
      "execution_count": null,
      "id": "db25bb67",
      "metadata": {
        "id": "db25bb67"
      },
      "outputs": [],
      "source": []
    }
  ],
  "metadata": {
    "kernelspec": {
      "display_name": "Python 3",
      "language": "python",
      "name": "python3"
    },
    "language_info": {
      "codemirror_mode": {
        "name": "ipython",
        "version": 3
      },
      "file_extension": ".py",
      "mimetype": "text/x-python",
      "name": "python",
      "nbconvert_exporter": "python",
      "pygments_lexer": "ipython3",
      "version": "3.8.8"
    },
    "colab": {
      "provenance": [],
      "include_colab_link": true
    }
  },
  "nbformat": 4,
  "nbformat_minor": 5
}